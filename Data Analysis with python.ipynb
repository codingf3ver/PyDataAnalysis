{
    "cells": [
        {
            "cell_type": "markdown",
            "metadata": {
                "collapsed": true
            },
            "source": "<h1><b><center>DATA ANALYSIS WITH PYTHON </center> </b></h1>\n"
        },
        {
            "cell_type": "code",
            "execution_count": 1,
            "metadata": {},
            "outputs": [],
            "source": "import pandas as pd\nimport matplotlib.pyplot as plt\nimport numpy as np\nimport seaborn as sns\nfrom sklearn.pipeline import Pipeline\nfrom sklearn.preprocessing import StandardScaler,PolynomialFeatures\nfrom sklearn.linear_model import LinearRegression\n%matplotlib inline"
        },
        {
            "cell_type": "markdown",
            "metadata": {},
            "source": "  <font color=blue> <b>Display the data types of each column using the attribute dtype</b></font>"
        },
        {
            "cell_type": "code",
            "execution_count": 6,
            "metadata": {},
            "outputs": [
                {
                    "data": {
                        "text/plain": "Unnamed: 0         int64\nid                 int64\ndate              object\nprice            float64\nbedrooms         float64\nbathrooms        float64\nsqft_living        int64\nsqft_lot           int64\nfloors           float64\nwaterfront         int64\nview               int64\ncondition          int64\ngrade              int64\nsqft_above         int64\nsqft_basement      int64\nyr_built           int64\nyr_renovated       int64\nzipcode            int64\nlat              float64\nlong             float64\nsqft_living15      int64\nsqft_lot15         int64\ndtype: object"
                    },
                    "execution_count": 6,
                    "metadata": {},
                    "output_type": "execute_result"
                }
            ],
            "source": "data='https://s3-api.us-geo.objectstorage.softlayer.net/cf-courses-data/CognitiveClass/DA0101EN/coursera/project/kc_house_data_NaN.csv'\ndf=pd.read_csv(data)\ndf.dtypes"
        },
        {
            "cell_type": "markdown",
            "metadata": {},
            "source": "<font color=blue><b> Drop the columns \"id\" and \"Unnamed: 0\" from axis 1 using the method drop(), then use the method describe() to obtain a statistical summary of the data.</b> </font>"
        },
        {
            "cell_type": "code",
            "execution_count": null,
            "metadata": {},
            "outputs": [],
            "source": "df.drop(['id','Unnamed: 0'], axis=1, inplace=True) #Dropping columns from y-axis(axis=1 refers to) "
        },
        {
            "cell_type": "code",
            "execution_count": 8,
            "metadata": {},
            "outputs": [
                {
                    "data": {
                        "text/html": "<div>\n<style scoped>\n    .dataframe tbody tr th:only-of-type {\n        vertical-align: middle;\n    }\n\n    .dataframe tbody tr th {\n        vertical-align: top;\n    }\n\n    .dataframe thead th {\n        text-align: right;\n    }\n</style>\n<table border=\"1\" class=\"dataframe\">\n  <thead>\n    <tr style=\"text-align: right;\">\n      <th></th>\n      <th>price</th>\n      <th>bedrooms</th>\n      <th>bathrooms</th>\n      <th>sqft_living</th>\n      <th>sqft_lot</th>\n      <th>floors</th>\n      <th>waterfront</th>\n      <th>view</th>\n      <th>condition</th>\n      <th>grade</th>\n      <th>sqft_above</th>\n      <th>sqft_basement</th>\n      <th>yr_built</th>\n      <th>yr_renovated</th>\n      <th>zipcode</th>\n      <th>lat</th>\n      <th>long</th>\n      <th>sqft_living15</th>\n      <th>sqft_lot15</th>\n    </tr>\n  </thead>\n  <tbody>\n    <tr>\n      <th>count</th>\n      <td>2.159700e+04</td>\n      <td>21597.000000</td>\n      <td>21597.000000</td>\n      <td>21597.000000</td>\n      <td>2.159700e+04</td>\n      <td>21597.000000</td>\n      <td>21597.000000</td>\n      <td>21597.000000</td>\n      <td>21597.000000</td>\n      <td>21597.000000</td>\n      <td>21597.000000</td>\n      <td>21597.000000</td>\n      <td>21597.000000</td>\n      <td>21597.000000</td>\n      <td>21597.000000</td>\n      <td>21597.000000</td>\n      <td>21597.000000</td>\n      <td>21597.000000</td>\n      <td>21597.000000</td>\n    </tr>\n    <tr>\n      <th>mean</th>\n      <td>5.402029e+05</td>\n      <td>3.373200</td>\n      <td>2.115826</td>\n      <td>2080.321850</td>\n      <td>1.509941e+04</td>\n      <td>1.494096</td>\n      <td>0.007547</td>\n      <td>0.234292</td>\n      <td>3.409825</td>\n      <td>7.657915</td>\n      <td>1788.596842</td>\n      <td>291.725008</td>\n      <td>1970.999676</td>\n      <td>84.464787</td>\n      <td>98077.951845</td>\n      <td>47.560093</td>\n      <td>-122.213982</td>\n      <td>1986.620318</td>\n      <td>12758.283512</td>\n    </tr>\n    <tr>\n      <th>std</th>\n      <td>3.671337e+05</td>\n      <td>0.926299</td>\n      <td>0.768984</td>\n      <td>918.106125</td>\n      <td>4.141264e+04</td>\n      <td>0.539683</td>\n      <td>0.086549</td>\n      <td>0.766390</td>\n      <td>0.650546</td>\n      <td>1.173200</td>\n      <td>827.759761</td>\n      <td>442.667800</td>\n      <td>29.375234</td>\n      <td>401.821438</td>\n      <td>53.513072</td>\n      <td>0.138552</td>\n      <td>0.140724</td>\n      <td>685.230472</td>\n      <td>27274.441950</td>\n    </tr>\n    <tr>\n      <th>min</th>\n      <td>7.800000e+04</td>\n      <td>1.000000</td>\n      <td>0.500000</td>\n      <td>370.000000</td>\n      <td>5.200000e+02</td>\n      <td>1.000000</td>\n      <td>0.000000</td>\n      <td>0.000000</td>\n      <td>1.000000</td>\n      <td>3.000000</td>\n      <td>370.000000</td>\n      <td>0.000000</td>\n      <td>1900.000000</td>\n      <td>0.000000</td>\n      <td>98001.000000</td>\n      <td>47.155900</td>\n      <td>-122.519000</td>\n      <td>399.000000</td>\n      <td>651.000000</td>\n    </tr>\n    <tr>\n      <th>25%</th>\n      <td>3.220000e+05</td>\n      <td>3.000000</td>\n      <td>1.750000</td>\n      <td>1430.000000</td>\n      <td>5.040000e+03</td>\n      <td>1.000000</td>\n      <td>0.000000</td>\n      <td>0.000000</td>\n      <td>3.000000</td>\n      <td>7.000000</td>\n      <td>1190.000000</td>\n      <td>0.000000</td>\n      <td>1951.000000</td>\n      <td>0.000000</td>\n      <td>98033.000000</td>\n      <td>47.471100</td>\n      <td>-122.328000</td>\n      <td>1490.000000</td>\n      <td>5100.000000</td>\n    </tr>\n    <tr>\n      <th>50%</th>\n      <td>4.500000e+05</td>\n      <td>3.000000</td>\n      <td>2.250000</td>\n      <td>1910.000000</td>\n      <td>7.618000e+03</td>\n      <td>1.500000</td>\n      <td>0.000000</td>\n      <td>0.000000</td>\n      <td>3.000000</td>\n      <td>7.000000</td>\n      <td>1560.000000</td>\n      <td>0.000000</td>\n      <td>1975.000000</td>\n      <td>0.000000</td>\n      <td>98065.000000</td>\n      <td>47.571800</td>\n      <td>-122.231000</td>\n      <td>1840.000000</td>\n      <td>7620.000000</td>\n    </tr>\n    <tr>\n      <th>75%</th>\n      <td>6.450000e+05</td>\n      <td>4.000000</td>\n      <td>2.500000</td>\n      <td>2550.000000</td>\n      <td>1.068500e+04</td>\n      <td>2.000000</td>\n      <td>0.000000</td>\n      <td>0.000000</td>\n      <td>4.000000</td>\n      <td>8.000000</td>\n      <td>2210.000000</td>\n      <td>560.000000</td>\n      <td>1997.000000</td>\n      <td>0.000000</td>\n      <td>98118.000000</td>\n      <td>47.678000</td>\n      <td>-122.125000</td>\n      <td>2360.000000</td>\n      <td>10083.000000</td>\n    </tr>\n    <tr>\n      <th>max</th>\n      <td>7.700000e+06</td>\n      <td>33.000000</td>\n      <td>8.000000</td>\n      <td>13540.000000</td>\n      <td>1.651359e+06</td>\n      <td>3.500000</td>\n      <td>1.000000</td>\n      <td>4.000000</td>\n      <td>5.000000</td>\n      <td>13.000000</td>\n      <td>9410.000000</td>\n      <td>4820.000000</td>\n      <td>2015.000000</td>\n      <td>2015.000000</td>\n      <td>98199.000000</td>\n      <td>47.777600</td>\n      <td>-121.315000</td>\n      <td>6210.000000</td>\n      <td>871200.000000</td>\n    </tr>\n  </tbody>\n</table>\n</div>",
                        "text/plain": "              price      bedrooms     bathrooms   sqft_living      sqft_lot  \\\ncount  2.159700e+04  21597.000000  21597.000000  21597.000000  2.159700e+04   \nmean   5.402029e+05      3.373200      2.115826   2080.321850  1.509941e+04   \nstd    3.671337e+05      0.926299      0.768984    918.106125  4.141264e+04   \nmin    7.800000e+04      1.000000      0.500000    370.000000  5.200000e+02   \n25%    3.220000e+05      3.000000      1.750000   1430.000000  5.040000e+03   \n50%    4.500000e+05      3.000000      2.250000   1910.000000  7.618000e+03   \n75%    6.450000e+05      4.000000      2.500000   2550.000000  1.068500e+04   \nmax    7.700000e+06     33.000000      8.000000  13540.000000  1.651359e+06   \n\n             floors    waterfront          view     condition         grade  \\\ncount  21597.000000  21597.000000  21597.000000  21597.000000  21597.000000   \nmean       1.494096      0.007547      0.234292      3.409825      7.657915   \nstd        0.539683      0.086549      0.766390      0.650546      1.173200   \nmin        1.000000      0.000000      0.000000      1.000000      3.000000   \n25%        1.000000      0.000000      0.000000      3.000000      7.000000   \n50%        1.500000      0.000000      0.000000      3.000000      7.000000   \n75%        2.000000      0.000000      0.000000      4.000000      8.000000   \nmax        3.500000      1.000000      4.000000      5.000000     13.000000   \n\n         sqft_above  sqft_basement      yr_built  yr_renovated       zipcode  \\\ncount  21597.000000   21597.000000  21597.000000  21597.000000  21597.000000   \nmean    1788.596842     291.725008   1970.999676     84.464787  98077.951845   \nstd      827.759761     442.667800     29.375234    401.821438     53.513072   \nmin      370.000000       0.000000   1900.000000      0.000000  98001.000000   \n25%     1190.000000       0.000000   1951.000000      0.000000  98033.000000   \n50%     1560.000000       0.000000   1975.000000      0.000000  98065.000000   \n75%     2210.000000     560.000000   1997.000000      0.000000  98118.000000   \nmax     9410.000000    4820.000000   2015.000000   2015.000000  98199.000000   \n\n                lat          long  sqft_living15     sqft_lot15  \ncount  21597.000000  21597.000000   21597.000000   21597.000000  \nmean      47.560093   -122.213982    1986.620318   12758.283512  \nstd        0.138552      0.140724     685.230472   27274.441950  \nmin       47.155900   -122.519000     399.000000     651.000000  \n25%       47.471100   -122.328000    1490.000000    5100.000000  \n50%       47.571800   -122.231000    1840.000000    7620.000000  \n75%       47.678000   -122.125000    2360.000000   10083.000000  \nmax       47.777600   -121.315000    6210.000000  871200.000000  "
                    },
                    "execution_count": 8,
                    "metadata": {},
                    "output_type": "execute_result"
                }
            ],
            "source": "df.dropna(axis=0,inplace=True) #dropna and axis=0 will drop NaN(not a number) value from x-axis i.e row\ndf.describe()                 #describe will give you the statistics of our dataset"
        },
        {
            "cell_type": "markdown",
            "metadata": {},
            "source": "<font color=blue><b>Use method value_counts to count the number of houses with unique floor values, use the method .to_frame() to convert it to a dataframe </b></font>"
        },
        {
            "cell_type": "code",
            "execution_count": 10,
            "metadata": {},
            "outputs": [
                {
                    "data": {
                        "text/html": "<div>\n<style scoped>\n    .dataframe tbody tr th:only-of-type {\n        vertical-align: middle;\n    }\n\n    .dataframe tbody tr th {\n        vertical-align: top;\n    }\n\n    .dataframe thead th {\n        text-align: right;\n    }\n</style>\n<table border=\"1\" class=\"dataframe\">\n  <thead>\n    <tr style=\"text-align: right;\">\n      <th></th>\n      <th>floors</th>\n    </tr>\n  </thead>\n  <tbody>\n    <tr>\n      <th>1.0</th>\n      <td>10673</td>\n    </tr>\n    <tr>\n      <th>2.0</th>\n      <td>8235</td>\n    </tr>\n    <tr>\n      <th>1.5</th>\n      <td>1910</td>\n    </tr>\n    <tr>\n      <th>3.0</th>\n      <td>611</td>\n    </tr>\n    <tr>\n      <th>2.5</th>\n      <td>161</td>\n    </tr>\n    <tr>\n      <th>3.5</th>\n      <td>7</td>\n    </tr>\n  </tbody>\n</table>\n</div>",
                        "text/plain": "     floors\n1.0   10673\n2.0    8235\n1.5    1910\n3.0     611\n2.5     161\n3.5       7"
                    },
                    "execution_count": 10,
                    "metadata": {},
                    "output_type": "execute_result"
                }
            ],
            "source": "df['floors'].value_counts().to_frame() #counting and converting into dataframe"
        },
        {
            "cell_type": "markdown",
            "metadata": {},
            "source": "<font color=blue> <b>Use the function boxplot in the seaborn library to produce a plot that can be used to determine whether houses\n    with a waterfront view or without a waterfront view have more price outliers. </b> </font>\n"
        },
        {
            "cell_type": "code",
            "execution_count": 12,
            "metadata": {},
            "outputs": [
                {
                    "data": {
                        "text/plain": "<matplotlib.axes._subplots.AxesSubplot at 0x7f43a38688d0>"
                    },
                    "execution_count": 12,
                    "metadata": {},
                    "output_type": "execute_result"
                },
                {
                    "data": {
                        "image/png": "[encoded data removed]",
                        "text/plain": "<Figure size 432x288 with 1 Axes>"
                    },
                    "metadata": {
                        "needs_background": "light"
                    },
                    "output_type": "display_data"
                }
            ],
            "source": "sns.boxplot(x='waterfront', y='price', data=df) #Getting visuals of housing price in boxplot when house is located at waterfront  "
        },
        {
            "cell_type": "markdown",
            "metadata": {},
            "source": "<font color=blue><b>Use the function regplot in the seaborn library to determine if the feature sqft_above is negatively or positively correlated with price </b> </font>"
        },
        {
            "cell_type": "code",
            "execution_count": 13,
            "metadata": {},
            "outputs": [
                {
                    "data": {
                        "text/plain": "<matplotlib.axes._subplots.AxesSubplot at 0x7f43a3544f28>"
                    },
                    "execution_count": 13,
                    "metadata": {},
                    "output_type": "execute_result"
                },
                {
                    "data": {
                        "image/png": "[encoded data removed]",
                        "text/plain": "<Figure size 432x288 with 1 Axes>"
                    },
                    "metadata": {
                        "needs_background": "light"
                    },
                    "output_type": "display_data"
                }
            ],
            "source": "sns.regplot(x='sqft_above', y='price', data=df) #regression plot using seaborn library"
        },
        {
            "cell_type": "code",
            "execution_count": 14,
            "metadata": {},
            "outputs": [
                {
                    "data": {
                        "text/plain": "zipcode         -0.053437\nlong             0.022092\ncondition        0.036025\nyr_built         0.053984\nsqft_lot15       0.082837\nsqft_lot         0.089882\nyr_renovated     0.126415\nfloors           0.256814\nwaterfront       0.266437\nlat              0.306777\nbedrooms         0.308794\nsqft_basement    0.323776\nview             0.397318\nbathrooms        0.525905\nsqft_living15    0.585247\nsqft_above       0.605371\ngrade            0.667922\nsqft_living      0.701909\nprice            1.000000\nName: price, dtype: float64"
                    },
                    "execution_count": 14,
                    "metadata": {},
                    "output_type": "execute_result"
                }
            ],
            "source": "df.corr()['price'].sort_values() #depicting corerelation with price in ascending order"
        },
        {
            "cell_type": "markdown",
            "metadata": {},
            "source": "<font color=blue><b>Fit a linear regression model to predict the price using the feature 'sqft_living' then calculate the R^2 </b></font>"
        },
        {
            "cell_type": "code",
            "execution_count": 42,
            "metadata": {},
            "outputs": [],
            "source": "import matplotlib.pyplot as plt\nfrom sklearn.linear_model import LinearRegression"
        },
        {
            "cell_type": "code",
            "execution_count": 15,
            "metadata": {},
            "outputs": [],
            "source": "X = df[['sqft_living']]"
        },
        {
            "cell_type": "code",
            "execution_count": 16,
            "metadata": {},
            "outputs": [],
            "source": "Y = df['price']"
        },
        {
            "cell_type": "code",
            "execution_count": 17,
            "metadata": {},
            "outputs": [
                {
                    "name": "stdout",
                    "output_type": "stream",
                    "text": "LinearRegression(copy_X=True, fit_intercept=True, n_jobs=None,\n         normalize=False)\n"
                }
            ],
            "source": "lm = LinearRegression()\nprint(lm.fit(X, Y))"
        },
        {
            "cell_type": "code",
            "execution_count": 19,
            "metadata": {},
            "outputs": [
                {
                    "data": {
                        "text/plain": "0.492676631728238"
                    },
                    "execution_count": 19,
                    "metadata": {},
                    "output_type": "execute_result"
                }
            ],
            "source": "lm.score(X, Y) #R2 value"
        },
        {
            "cell_type": "markdown",
            "metadata": {},
            "source": "<font color=blue><b>Fit a linear regression model to predict the 'price' using the list of features:</b>\n   <p> \"floors\"\n    \"waterfront\"\n   \"lat\"\n    \"bedrooms\"\n    \"sqft_basement\"\n    \"view\"\n    \"bathrooms\"\n    \"sqft_living15\"\n    \"sqft_above\"\n    \"grade\"\n    \"sqft_living\"\n    The calculate the R^2 </p> </font>"
        },
        {
            "cell_type": "code",
            "execution_count": 22,
            "metadata": {},
            "outputs": [],
            "source": "features =[\"floors\", \"waterfront\",\"lat\" ,\"bedrooms\" ,\"sqft_basement\" ,\"view\" ,\"bathrooms\",\"sqft_living15\",\"sqft_above\",\"grade\",\"sqft_living\"] "
        },
        {
            "cell_type": "code",
            "execution_count": 23,
            "metadata": {},
            "outputs": [
                {
                    "name": "stdout",
                    "output_type": "stream",
                    "text": "The R-square is:  0.6578409661299081\n"
                }
            ],
            "source": "Z= df[['floors', 'waterfront','lat' ,'bedrooms' ,'sqft_basement' ,'view' ,'bathrooms','sqft_living15','sqft_above','grade','sqft_living']]\nlm.fit(Z, df['price'])\nprint('The R-square is: ', lm.score(Z, df['price']))"
        },
        {
            "cell_type": "markdown",
            "metadata": {},
            "source": "<font color=blue> <b>Create a pipeline object that scales the data and performs a polynomial transform and fits a linear regression model. Fit the object using the features, then fit the model and calculate the R^2 </b> </font>"
        },
        {
            "cell_type": "code",
            "execution_count": 33,
            "metadata": {},
            "outputs": [
                {
                    "name": "stdout",
                    "output_type": "stream",
                    "text": "The R-Square is : 0.7512538822406096\n"
                },
                {
                    "name": "stderr",
                    "output_type": "stream",
                    "text": "/opt/conda/envs/Python36/lib/python3.6/site-packages/sklearn/preprocessing/data.py:645: DataConversionWarning: Data with input dtype int64, float64 were all converted to float64 by StandardScaler.\n  return self.partial_fit(X, y)\n/opt/conda/envs/Python36/lib/python3.6/site-packages/sklearn/base.py:467: DataConversionWarning: Data with input dtype int64, float64 were all converted to float64 by StandardScaler.\n  return self.fit(X, y, **fit_params).transform(X)\n/opt/conda/envs/Python36/lib/python3.6/site-packages/sklearn/pipeline.py:511: DataConversionWarning: Data with input dtype int64, float64 were all converted to float64 by StandardScaler.\n  Xt = transform.transform(Xt)\n"
                }
            ],
            "source": "Input=[('scale',StandardScaler()),('polynomial', PolynomialFeatures(include_bias=False)),('model',LinearRegression())]\npipe=Pipeline(Input)\npipe\nZ= df[['floors', 'waterfront','lat' ,'bedrooms' ,'sqft_basement' ,'view' ,'bathrooms','sqft_living15','sqft_above','grade','sqft_living']]\npipe.fit(Z,df['price'])\nprint('The R-Square is :',pipe.score(Z,df['price']))"
        },
        {
            "cell_type": "markdown",
            "metadata": {},
            "source": "The R-square is:  0.7513408553309376"
        },
        {
            "cell_type": "markdown",
            "metadata": {},
            "source": "<font color=blue><b>Create and fit a Ridge regression object using the training data, setting the \n     regularization parameter to 0.1 and calculate the R^2 using the test data</b></font>"
        },
        {
            "cell_type": "code",
            "execution_count": 34,
            "metadata": {},
            "outputs": [
                {
                    "name": "stdout",
                    "output_type": "stream",
                    "text": "number of test samples : 3240\nnumber of training samples: 18357\n"
                }
            ],
            "source": "from sklearn.model_selection import train_test_split\nfeatures=[\"floors\", \"waterfront\",\"lat\" ,\"bedrooms\" ,\"sqft_basement\" ,\"view\" ,\"bathrooms\",\"sqft_living15\",\"sqft_above\",\"grade\",\"sqft_living\"]\nX = df[features ]\nY = df['price']\nx_train, x_test, y_train, y_test = train_test_split(X, Y, test_size=0.15, random_state=1)\nprint(\"number of test samples :\", x_test.shape[0])\nprint(\"number of training samples:\",x_train.shape[0])\n"
        },
        {
            "cell_type": "code",
            "execution_count": 35,
            "metadata": {},
            "outputs": [],
            "source": "from sklearn.linear_model import Ridge"
        },
        {
            "cell_type": "code",
            "execution_count": 36,
            "metadata": {},
            "outputs": [
                {
                    "data": {
                        "text/plain": "0.6742607166347835"
                    },
                    "execution_count": 36,
                    "metadata": {},
                    "output_type": "execute_result"
                }
            ],
            "source": "RigeModel=Ridge(alpha=0.1)     #alpha is to how much percentage of data you are willing provide for testing\nRigeModel.fit(x_train, y_train) #fitting data using ridge regression\nRigeModel.score(x_test, y_test) #ridge regression R^2 value"
        },
        {
            "cell_type": "markdown",
            "metadata": {},
            "source": "<font color=blue><b>Perform a second order polynomial transform on both the training data and testing data. \nCreate and fit a Ridge regression object using the training data, setting the regularisation parameter to 0.1. \n Calculate the R^2 utilising the test data provided.</b> </font>"
        },
        {
            "cell_type": "code",
            "execution_count": 37,
            "metadata": {},
            "outputs": [
                {
                    "data": {
                        "text/plain": "0.6881597693056931"
                    },
                    "execution_count": 37,
                    "metadata": {},
                    "output_type": "execute_result"
                }
            ],
            "source": "pr=PolynomialFeatures(degree=2)         #polynomial transformation in degree of two\nx_train_pr=pr.fit_transform(x_train[features])  #training of our dataset\nx_test_pr=pr.fit_transform(x_test[features])     #Testing our dataset\nRigeModel=Ridge(alpha=0.1)                       #10% for testing purpose\nRigeModel.fit(x_train_pr, y_train)               #Fitting our model\nRigeModel.score(x_test_pr, y_test)               #finding R^2 value"
        },
        {
            "cell_type": "code",
            "execution_count": null,
            "metadata": {},
            "outputs": [],
            "source": ""
        }
    ],
    "metadata": {
        "kernelspec": {
            "display_name": "Python 3.6",
            "language": "python",
            "name": "python3"
        },
        "language_info": {
            "codemirror_mode": {
                "name": "ipython",
                "version": 3
            },
            "file_extension": ".py",
            "mimetype": "text/x-python",
            "name": "python",
            "nbconvert_exporter": "python",
            "pygments_lexer": "ipython3",
            "version": "3.6.9"
        }
    },
    "nbformat": 4,
    "nbformat_minor": 1
}